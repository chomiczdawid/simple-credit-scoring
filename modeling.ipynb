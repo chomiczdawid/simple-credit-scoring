{
 "cells": [
  {
   "cell_type": "code",
   "execution_count": 80,
   "metadata": {},
   "outputs": [],
   "source": [
    "import pandas as pd\n",
    "import numpy as np\n",
    "import matplotlib.pyplot as plt\n",
    "import seaborn as sns \n",
    "import statsmodels.api as sm\n",
    "from statsmodels.formula.api import logit\n",
    "from sklearn.linear_model import LogisticRegression\n",
    "from sklearn.metrics import roc_auc_score,roc_curve,auc,precision_recall_curve"
   ]
  },
  {
   "cell_type": "markdown",
   "metadata": {},
   "source": [
    "## Wczytanie i obróbka danych"
   ]
  },
  {
   "cell_type": "code",
   "execution_count": 81,
   "metadata": {},
   "outputs": [],
   "source": [
    "train = pd.read_excel('final_train_data.xlsx')\n",
    "test = pd.read_excel('final_test_data.xlsx')"
   ]
  },
  {
   "cell_type": "code",
   "execution_count": 82,
   "metadata": {},
   "outputs": [],
   "source": [
    "test.dropna(inplace=True)"
   ]
  },
  {
   "cell_type": "code",
   "execution_count": 83,
   "metadata": {},
   "outputs": [
    {
     "name": "stdout",
     "output_type": "stream",
     "text": [
      "test: 2054\n",
      "train: 7946\n"
     ]
    }
   ],
   "source": [
    "# liczebności w zbiorach\n",
    "print(\"test:\",test.shape[0])\n",
    "print(\"train:\",train.shape[0])"
   ]
  },
  {
   "cell_type": "code",
   "execution_count": 84,
   "metadata": {},
   "outputs": [],
   "source": [
    "cols = train.loc[:, train.columns != 'Status'].columns"
   ]
  },
  {
   "cell_type": "code",
   "execution_count": 85,
   "metadata": {},
   "outputs": [],
   "source": [
    "train.loc[train['Status'] == 'Late', 'Status'] = 1\n",
    "train.loc[train['Status'] == 'Current', 'Status'] = 0\n",
    "test.loc[test['Status'] == 'Late', 'Status'] = 1\n",
    "test.loc[test['Status'] == 'Current', 'Status'] = 0"
   ]
  },
  {
   "cell_type": "code",
   "execution_count": 86,
   "metadata": {},
   "outputs": [
    {
     "name": "stdout",
     "output_type": "stream",
     "text": [
      "OccupationArea [0. 1.]\n",
      "ActiveScheduleFirstPaymentReached [1. 0.]\n",
      "PrincipalOverdueBySchedule [1. 0.]\n",
      "Restructured [0. 1.]\n"
     ]
    }
   ],
   "source": [
    "for v in ['OccupationArea', 'ActiveScheduleFirstPaymentReached', \n",
    "          'PrincipalOverdueBySchedule', 'Restructured']:\n",
    "    print(v, test[v].unique())"
   ]
  },
  {
   "cell_type": "code",
   "execution_count": 87,
   "metadata": {},
   "outputs": [],
   "source": [
    "for v in cols:\n",
    "    if v in ['OccupationArea', 'ActiveScheduleFirstPaymentReached', \n",
    "          'PrincipalOverdueBySchedule', 'Restructured']:\n",
    "        test[v] = test[v].astype(int).astype(str)\n",
    "    else:\n",
    "        test[v] = test[v].astype(str)"
   ]
  },
  {
   "cell_type": "code",
   "execution_count": 88,
   "metadata": {},
   "outputs": [],
   "source": [
    "for v in cols:\n",
    "    train[v] = train[v].astype(str)"
   ]
  },
  {
   "cell_type": "code",
   "execution_count": 89,
   "metadata": {},
   "outputs": [],
   "source": [
    "# train.dtypes"
   ]
  },
  {
   "cell_type": "code",
   "execution_count": 90,
   "metadata": {},
   "outputs": [],
   "source": [
    "# test.dtypes"
   ]
  },
  {
   "cell_type": "code",
   "execution_count": 91,
   "metadata": {},
   "outputs": [
    {
     "name": "stdout",
     "output_type": "stream",
     "text": [
      "Train default rate: 0.5922476717845457\n",
      "Test default rate: 0.6090555014605648\n"
     ]
    }
   ],
   "source": [
    "print(\"Train default rate:\", len(train[train['Status'] == 1]) / len(train))\n",
    "print(\"Test default rate:\", len(test[test['Status'] == 1]) / len(test))"
   ]
  },
  {
   "cell_type": "markdown",
   "metadata": {},
   "source": [
    "## Transformacja zmiennych w oparciu o WoE"
   ]
  },
  {
   "cell_type": "code",
   "execution_count": 92,
   "metadata": {},
   "outputs": [],
   "source": [
    "def iv_woe(data, target, bins=10, show_woe=False):\n",
    "    \n",
    "    #Empty Dataframe\n",
    "    newDF,woeDF = pd.DataFrame(), pd.DataFrame()\n",
    "    \n",
    "    #Extract Column Names\n",
    "    cols = data.columns\n",
    "    \n",
    "    #Run WOE and IV on all the independent variables\n",
    "    for ivars in cols[~cols.isin([target])]:\n",
    "        d0 = pd.DataFrame({'x': data[ivars], 'y': data[target]})\n",
    "        d0 = d0.astype({\"x\": str})\n",
    "        d = d0.groupby(\"x\", as_index=False).agg({\"y\": [\"count\", \"sum\"]})\n",
    "        d.columns = ['Cutoff', 'N', 'Events']\n",
    "        d['% of Events'] = np.maximum(d['Events'], 0.5) / d['Events'].sum()\n",
    "        d['Non-Events'] = d['N'] - d['Events']\n",
    "        d['% of Non-Events'] = np.maximum(d['Non-Events'], 0.5) / d['Non-Events'].sum()\n",
    "        d['WoE'] = np.log(d['% of Non-Events']/d['% of Events'])\n",
    "        d['IV'] = d['WoE'] * (d['% of Non-Events']-d['% of Events'])\n",
    "        d.insert(loc=0, column='Variable', value=ivars)\n",
    "        temp =pd.DataFrame({\"Variable\" : [ivars], \"IV\" : [d['IV'].sum()]}, columns = [\"Variable\", \"IV\"])\n",
    "        newDF=pd.concat([newDF,temp], axis=0)\n",
    "        woeDF=pd.concat([woeDF,d], axis=0)\n",
    "        newDF.reset_index(drop=True, inplace=True)\n",
    "        #Show WOE Table\n",
    "        if show_woe == True:\n",
    "            print(d)\n",
    "    return newDF, woeDF"
   ]
  },
  {
   "cell_type": "code",
   "execution_count": 93,
   "metadata": {},
   "outputs": [],
   "source": [
    "iv, woe = iv_woe(data = train, target = 'Status')"
   ]
  },
  {
   "cell_type": "code",
   "execution_count": 269,
   "metadata": {},
   "outputs": [],
   "source": [
    "# sprawdzenie, czy algorytm nie namieszał w przedziałach\n",
    "# for col in cols:\n",
    "#     print(col)\n",
    "#     print('Train:', train[col].unique())\n",
    "#     print('WoE:', np.array(woe[woe['Variable'] == col]['Cutoff']))"
   ]
  },
  {
   "cell_type": "code",
   "execution_count": 96,
   "metadata": {},
   "outputs": [
    {
     "data": {
      "text/html": [
       "<div>\n",
       "<style scoped>\n",
       "    .dataframe tbody tr th:only-of-type {\n",
       "        vertical-align: middle;\n",
       "    }\n",
       "\n",
       "    .dataframe tbody tr th {\n",
       "        vertical-align: top;\n",
       "    }\n",
       "\n",
       "    .dataframe thead th {\n",
       "        text-align: right;\n",
       "    }\n",
       "</style>\n",
       "<table border=\"1\" class=\"dataframe\">\n",
       "  <thead>\n",
       "    <tr style=\"text-align: right;\">\n",
       "      <th></th>\n",
       "      <th>Variable</th>\n",
       "      <th>Cutoff</th>\n",
       "      <th>N</th>\n",
       "      <th>Events</th>\n",
       "      <th>% of Events</th>\n",
       "      <th>Non-Events</th>\n",
       "      <th>% of Non-Events</th>\n",
       "      <th>WoE</th>\n",
       "      <th>IV</th>\n",
       "    </tr>\n",
       "  </thead>\n",
       "  <tbody>\n",
       "    <tr>\n",
       "      <th>0</th>\n",
       "      <td>LanguageCode</td>\n",
       "      <td>3_1</td>\n",
       "      <td>4364</td>\n",
       "      <td>2149</td>\n",
       "      <td>0.456651</td>\n",
       "      <td>2215</td>\n",
       "      <td>0.683642</td>\n",
       "      <td>0.403515</td>\n",
       "      <td>0.091594</td>\n",
       "    </tr>\n",
       "    <tr>\n",
       "      <th>1</th>\n",
       "      <td>LanguageCode</td>\n",
       "      <td>4_2</td>\n",
       "      <td>2439</td>\n",
       "      <td>1567</td>\n",
       "      <td>0.332979</td>\n",
       "      <td>872</td>\n",
       "      <td>0.269136</td>\n",
       "      <td>-0.212864</td>\n",
       "      <td>0.013590</td>\n",
       "    </tr>\n",
       "    <tr>\n",
       "      <th>2</th>\n",
       "      <td>LanguageCode</td>\n",
       "      <td>6</td>\n",
       "      <td>1143</td>\n",
       "      <td>990</td>\n",
       "      <td>0.210370</td>\n",
       "      <td>153</td>\n",
       "      <td>0.047222</td>\n",
       "      <td>-1.494002</td>\n",
       "      <td>0.243743</td>\n",
       "    </tr>\n",
       "  </tbody>\n",
       "</table>\n",
       "</div>"
      ],
      "text/plain": [
       "       Variable Cutoff     N  Events  % of Events  Non-Events  \\\n",
       "0  LanguageCode    3_1  4364    2149     0.456651        2215   \n",
       "1  LanguageCode    4_2  2439    1567     0.332979         872   \n",
       "2  LanguageCode      6  1143     990     0.210370         153   \n",
       "\n",
       "   % of Non-Events       WoE        IV  \n",
       "0         0.683642  0.403515  0.091594  \n",
       "1         0.269136 -0.212864  0.013590  \n",
       "2         0.047222 -1.494002  0.243743  "
      ]
     },
     "execution_count": 96,
     "metadata": {},
     "output_type": "execute_result"
    }
   ],
   "source": [
    "woe.head(3)"
   ]
  },
  {
   "cell_type": "code",
   "execution_count": 97,
   "metadata": {},
   "outputs": [
    {
     "name": "stdout",
     "output_type": "stream",
     "text": [
      "                             Variable        IV\n",
      "3                            Interest  0.644025\n",
      "15  ActiveScheduleFirstPaymentReached  2.313826\n",
      "16            PlannedInterestTillDate  1.853650\n",
      "17                       ExpectedLoss  1.023074\n",
      "19               ProbabilityOfDefault  0.650977\n",
      "20         PrincipalOverdueBySchedule  9.494501\n",
      "22                             Rating  0.711741\n"
     ]
    }
   ],
   "source": [
    "# Wyrzucenie zbyt dobrych zmiennych, które zwiększają ryzyko przeuczenia modelu\n",
    "cut = 0.6\n",
    "exclude_list = iv[iv['IV'] > cut]['Variable'].unique()\n",
    "m_vars = [v for v in cols if v not in exclude_list]\n",
    "print(iv[iv['IV'] > cut])"
   ]
  },
  {
   "cell_type": "code",
   "execution_count": 113,
   "metadata": {},
   "outputs": [],
   "source": [
    "# przekodowanie wariantów zmiennych na wartości WoE\n",
    "def data_to_woe(df):\n",
    "    df_woe = df.copy()\n",
    "    for v in cols:\n",
    "        df_woe = df_woe.merge(\n",
    "            woe[woe['Variable'] == v][['Cutoff', 'WoE']],\n",
    "            how='left',\n",
    "            left_on=v, \n",
    "            right_on='Cutoff'\n",
    "        )\n",
    "        df_woe.drop(columns=['Cutoff', v], inplace=True)\n",
    "        df_woe.rename(columns={'WoE': v}, inplace=True)\n",
    "    df_woe['Status'] = df_woe['Status'].astype(int)\n",
    "    return df_woe"
   ]
  },
  {
   "cell_type": "code",
   "execution_count": 136,
   "metadata": {},
   "outputs": [],
   "source": [
    "train_woe = data_to_woe(train)\n",
    "test_woe = data_to_woe(test)"
   ]
  },
  {
   "cell_type": "code",
   "execution_count": 137,
   "metadata": {},
   "outputs": [
    {
     "name": "stdout",
     "output_type": "stream",
     "text": [
      "Braki:\n",
      "%        N      VAR\n",
      "0.00       0    Status\n",
      "0.85    1739    LanguageCode\n",
      "0.00       0    Gender\n",
      "0.00       0    Country\n",
      "0.00       0    Interest\n",
      "0.00       0    LoanDuration\n",
      "0.00       0    MonthlyPayment\n",
      "0.00       0    UseOfLoan\n",
      "0.00       0    MaritalStatus\n",
      "0.00       0    EmploymentStatus\n",
      "0.00       0    OccupationArea\n",
      "0.00       0    HomeOwnershipType\n",
      "0.00       0    IncomeFromPrincipalEmployer\n",
      "0.00       0    ExistingLiabilities\n",
      "0.00       0    DebtToIncome\n",
      "0.00       0    FreeCash\n",
      "0.00       0    ActiveScheduleFirstPaymentReached\n",
      "0.00       0    PlannedInterestTillDate\n",
      "0.00       0    ExpectedLoss\n",
      "0.00       0    ExpectedReturn\n",
      "0.00       0    ProbabilityOfDefault\n",
      "0.00       0    PrincipalOverdueBySchedule\n",
      "0.00       0    ModelVersion\n",
      "0.00       0    Rating\n",
      "1.00    2054    Restructured\n",
      "0.00       0    CreditScoreEsMicroL\n",
      "0.00       0    InterestAndPenaltyPaymentsMade\n",
      "0.00       0    NoOfPreviousLoansBeforeLoan\n",
      "0.00       0    AmountOfPreviousLoansBeforeLoan\n"
     ]
    }
   ],
   "source": [
    "# Brakujące dane przez brak kategorii w zbiorze testowym\n",
    "df = test_woe.copy()\n",
    "print('Braki:')\n",
    "print('%       ','N     ','VAR')\n",
    "for i in df.columns:\n",
    "    print(\"{:4.2f}\".format(round(len(df[df[i].isna()]) / len(df), 2)), \"  \", \"{:4}\".format(len(df[df[i].isna()])), \"  \",i)"
   ]
  },
  {
   "cell_type": "code",
   "execution_count": 138,
   "metadata": {},
   "outputs": [],
   "source": [
    "# Usunięcie zmiennych z brakami\n",
    "train_woe.drop(columns=['LanguageCode' ,'Restructured'], inplace=True)\n",
    "test_woe.drop(columns=['LanguageCode' ,'Restructured'], inplace=True)\n",
    "\n",
    "m_vars = [v for v in m_vars if v not in ['LanguageCode' ,'Restructured']]"
   ]
  },
  {
   "cell_type": "markdown",
   "metadata": {},
   "source": [
    "## Estymacja modelu scoringowego"
   ]
  },
  {
   "cell_type": "code",
   "execution_count": 139,
   "metadata": {},
   "outputs": [],
   "source": [
    "def plot_roc_pre_recall_curve(labels, probs):\n",
    "    from sklearn.metrics import precision_recall_curve\n",
    "    # Get ROC curve FPR and TPR from true labels vs score values\n",
    "    fpr, tpr, _ = roc_curve(labels, probs)\n",
    "\n",
    "    # Calculate ROC Area Under the Curve (AUC) from FPR and TPR data points\n",
    "    roc_auc = auc(fpr, tpr)\n",
    "\n",
    "    # Calculate precision and recall from true labels vs score values\n",
    "    precision, recall, _ = precision_recall_curve(labels, probs)\n",
    "\n",
    "    plt.figure(figsize=(16, 6))\n",
    "\n",
    "    plt.subplot(1,2,1)\n",
    "    lw = 2\n",
    "    plt.plot(fpr, tpr, color='darkorange', lw=lw, label='ROC curve (area = %0.4f)' % roc_auc)\n",
    "    plt.plot([0, 1], [0, 1], color='navy', lw=lw, linestyle='--')\n",
    "    plt.xlim([0.0, 1.0])\n",
    "    plt.ylim([0.0, 1.05])\n",
    "    plt.xlabel('False Positive Rate')\n",
    "    plt.ylabel('True Positive Rate')\n",
    "    plt.title('ROC Curve')\n",
    "    plt.legend(loc=\"lower right\")\n",
    "    plt.grid(True)\n",
    "\n",
    "    plt.subplot(1,2,2)\n",
    "    plt.step(recall, precision, color='orange', where='post')\n",
    "    # plt.fill_between(recall, precision, step='post', alpha=0.5, color='orange')\n",
    "    plt.xlabel('Recall')\n",
    "    plt.ylabel('Precision')\n",
    "    plt.ylim([0.0, 1.05])\n",
    "    plt.xlim([0.0, 1.0])\n",
    "    plt.title('Precision Recall Curve')\n",
    "    plt.grid(True)\n",
    "\n",
    "    left  = 0.125  # the left side of the subplots of the figure\n",
    "    right = 0.9    # the right side of the subplots of the figure\n",
    "    bottom = 0.1   # the bottom of the subplots of the figure \n",
    "    top = 0.9      # the top of the subplots of the figure\n",
    "    wspace = 0.5   # the amount of width reserved for blank space between subplots\n",
    "    hspace = 0.2   # the amount of height reserved for white space between subplots\n",
    "    plt.subplots_adjust(left, bottom, right, top, wspace, hspace)\n",
    "    plt.show()"
   ]
  },
  {
   "cell_type": "code",
   "execution_count": 140,
   "metadata": {},
   "outputs": [],
   "source": [
    "x_train = train_woe[m_vars]\n",
    "y_train = train_woe['Status']\n",
    "x_test =test_woe[m_vars] \n",
    "y_test = test_woe['Status']"
   ]
  },
  {
   "cell_type": "code",
   "execution_count": 141,
   "metadata": {},
   "outputs": [
    {
     "data": {
      "text/plain": [
       "LogisticRegression()"
      ]
     },
     "execution_count": 141,
     "metadata": {},
     "output_type": "execute_result"
    }
   ],
   "source": [
    "lr = LogisticRegression()\n",
    "lr.fit(x_train, y_train)"
   ]
  },
  {
   "cell_type": "code",
   "execution_count": 142,
   "metadata": {},
   "outputs": [
    {
     "data": {
      "image/png": "[encoded data removed]",
      "text/plain": [
       "<Figure size 1152x432 with 2 Axes>"
      ]
     },
     "metadata": {},
     "output_type": "display_data"
    }
   ],
   "source": [
    "#check AUC\n",
    "probs = lr.predict_proba(x_test)[:,1]\n",
    "sns.set(font_scale = 1.5)\n",
    "plot_roc_pre_recall_curve(y_test, probs)"
   ]
  },
  {
   "cell_type": "code",
   "execution_count": 143,
   "metadata": {},
   "outputs": [],
   "source": [
    "features = pd.DataFrame(zip(x_train.columns, np.transpose(lr.coef_)), columns=['features', 'coef'])"
   ]
  },
  {
   "cell_type": "code",
   "execution_count": 144,
   "metadata": {},
   "outputs": [],
   "source": [
    "for i in range(0, len(features)):\n",
    "    features['coef'][i] = features['coef'][i][0]"
   ]
  },
  {
   "cell_type": "code",
   "execution_count": 145,
   "metadata": {},
   "outputs": [
    {
     "data": {
      "text/html": [
       "<div>\n",
       "<style scoped>\n",
       "    .dataframe tbody tr th:only-of-type {\n",
       "        vertical-align: middle;\n",
       "    }\n",
       "\n",
       "    .dataframe tbody tr th {\n",
       "        vertical-align: top;\n",
       "    }\n",
       "\n",
       "    .dataframe thead th {\n",
       "        text-align: right;\n",
       "    }\n",
       "</style>\n",
       "<table border=\"1\" class=\"dataframe\">\n",
       "  <thead>\n",
       "    <tr style=\"text-align: right;\">\n",
       "      <th></th>\n",
       "      <th>features</th>\n",
       "      <th>coef</th>\n",
       "    </tr>\n",
       "  </thead>\n",
       "  <tbody>\n",
       "    <tr>\n",
       "      <th>0</th>\n",
       "      <td>Gender</td>\n",
       "      <td>-0.804904</td>\n",
       "    </tr>\n",
       "    <tr>\n",
       "      <th>1</th>\n",
       "      <td>Country</td>\n",
       "      <td>-0.405106</td>\n",
       "    </tr>\n",
       "    <tr>\n",
       "      <th>2</th>\n",
       "      <td>LoanDuration</td>\n",
       "      <td>-0.130576</td>\n",
       "    </tr>\n",
       "    <tr>\n",
       "      <th>3</th>\n",
       "      <td>MonthlyPayment</td>\n",
       "      <td>-1.21863</td>\n",
       "    </tr>\n",
       "    <tr>\n",
       "      <th>4</th>\n",
       "      <td>UseOfLoan</td>\n",
       "      <td>-0.0871905</td>\n",
       "    </tr>\n",
       "    <tr>\n",
       "      <th>5</th>\n",
       "      <td>MaritalStatus</td>\n",
       "      <td>-0.0871905</td>\n",
       "    </tr>\n",
       "    <tr>\n",
       "      <th>6</th>\n",
       "      <td>EmploymentStatus</td>\n",
       "      <td>0.188634</td>\n",
       "    </tr>\n",
       "    <tr>\n",
       "      <th>7</th>\n",
       "      <td>OccupationArea</td>\n",
       "      <td>-0.0871905</td>\n",
       "    </tr>\n",
       "    <tr>\n",
       "      <th>8</th>\n",
       "      <td>HomeOwnershipType</td>\n",
       "      <td>-0.402424</td>\n",
       "    </tr>\n",
       "    <tr>\n",
       "      <th>9</th>\n",
       "      <td>IncomeFromPrincipalEmployer</td>\n",
       "      <td>-0.0125788</td>\n",
       "    </tr>\n",
       "    <tr>\n",
       "      <th>10</th>\n",
       "      <td>ExistingLiabilities</td>\n",
       "      <td>-0.143742</td>\n",
       "    </tr>\n",
       "    <tr>\n",
       "      <th>11</th>\n",
       "      <td>DebtToIncome</td>\n",
       "      <td>-0.0871905</td>\n",
       "    </tr>\n",
       "    <tr>\n",
       "      <th>12</th>\n",
       "      <td>FreeCash</td>\n",
       "      <td>-0.0871905</td>\n",
       "    </tr>\n",
       "    <tr>\n",
       "      <th>13</th>\n",
       "      <td>ExpectedReturn</td>\n",
       "      <td>-0.6792</td>\n",
       "    </tr>\n",
       "    <tr>\n",
       "      <th>14</th>\n",
       "      <td>ModelVersion</td>\n",
       "      <td>-0.131291</td>\n",
       "    </tr>\n",
       "    <tr>\n",
       "      <th>15</th>\n",
       "      <td>CreditScoreEsMicroL</td>\n",
       "      <td>-0.470999</td>\n",
       "    </tr>\n",
       "    <tr>\n",
       "      <th>16</th>\n",
       "      <td>InterestAndPenaltyPaymentsMade</td>\n",
       "      <td>-1.55564</td>\n",
       "    </tr>\n",
       "    <tr>\n",
       "      <th>17</th>\n",
       "      <td>NoOfPreviousLoansBeforeLoan</td>\n",
       "      <td>-0.123063</td>\n",
       "    </tr>\n",
       "    <tr>\n",
       "      <th>18</th>\n",
       "      <td>AmountOfPreviousLoansBeforeLoan</td>\n",
       "      <td>-0.284188</td>\n",
       "    </tr>\n",
       "  </tbody>\n",
       "</table>\n",
       "</div>"
      ],
      "text/plain": [
       "                           features       coef\n",
       "0                            Gender  -0.804904\n",
       "1                           Country  -0.405106\n",
       "2                      LoanDuration  -0.130576\n",
       "3                    MonthlyPayment   -1.21863\n",
       "4                         UseOfLoan -0.0871905\n",
       "5                     MaritalStatus -0.0871905\n",
       "6                  EmploymentStatus   0.188634\n",
       "7                    OccupationArea -0.0871905\n",
       "8                 HomeOwnershipType  -0.402424\n",
       "9       IncomeFromPrincipalEmployer -0.0125788\n",
       "10              ExistingLiabilities  -0.143742\n",
       "11                     DebtToIncome -0.0871905\n",
       "12                         FreeCash -0.0871905\n",
       "13                   ExpectedReturn    -0.6792\n",
       "14                     ModelVersion  -0.131291\n",
       "15              CreditScoreEsMicroL  -0.470999\n",
       "16   InterestAndPenaltyPaymentsMade   -1.55564\n",
       "17      NoOfPreviousLoansBeforeLoan  -0.123063\n",
       "18  AmountOfPreviousLoansBeforeLoan  -0.284188"
      ]
     },
     "execution_count": 145,
     "metadata": {},
     "output_type": "execute_result"
    }
   ],
   "source": [
    "features"
   ]
  },
  {
   "cell_type": "markdown",
   "metadata": {},
   "source": [
    "## Karta scoringowa"
   ]
  },
  {
   "cell_type": "code",
   "execution_count": 204,
   "metadata": {},
   "outputs": [],
   "source": [
    "base_score = 500\n",
    "base_odds = 1\n",
    "pdo = 20"
   ]
  },
  {
   "cell_type": "code",
   "execution_count": 208,
   "metadata": {},
   "outputs": [],
   "source": [
    "intercept_score = base_score + pdo / np.log(2) * lr.intercept_[0] - 1"
   ]
  },
  {
   "cell_type": "code",
   "execution_count": 209,
   "metadata": {},
   "outputs": [
    {
     "data": {
      "text/plain": [
       "513.1444754312346"
      ]
     },
     "execution_count": 209,
     "metadata": {},
     "output_type": "execute_result"
    }
   ],
   "source": [
    "intercept_score"
   ]
  },
  {
   "cell_type": "code",
   "execution_count": 210,
   "metadata": {},
   "outputs": [],
   "source": [
    "scorecard = woe[woe['Variable'].isin(features['features'].unique())][['Variable', 'Cutoff', 'WoE']]\n",
    "scorecard = scorecard.merge(features, left_on='Variable', right_on='features')\n",
    "scorecard['Score'] = scorecard['WoE'] * scorecard['coef'] * -1 * pdo / np.log(2)\n",
    "scorecard.drop(columns=['features', 'coef', 'WoE'], inplace=True)\n",
    "scorecard.rename(columns={'Cutoff': 'Category'}, inplace=True)"
   ]
  },
  {
   "cell_type": "code",
   "execution_count": 211,
   "metadata": {},
   "outputs": [
    {
     "data": {
      "text/html": [
       "<div>\n",
       "<style scoped>\n",
       "    .dataframe tbody tr th:only-of-type {\n",
       "        vertical-align: middle;\n",
       "    }\n",
       "\n",
       "    .dataframe tbody tr th {\n",
       "        vertical-align: top;\n",
       "    }\n",
       "\n",
       "    .dataframe thead th {\n",
       "        text-align: right;\n",
       "    }\n",
       "</style>\n",
       "<table border=\"1\" class=\"dataframe\">\n",
       "  <thead>\n",
       "    <tr style=\"text-align: right;\">\n",
       "      <th></th>\n",
       "      <th>Variable</th>\n",
       "      <th>Category</th>\n",
       "      <th>Score</th>\n",
       "    </tr>\n",
       "  </thead>\n",
       "  <tbody>\n",
       "    <tr>\n",
       "      <th>0</th>\n",
       "      <td>Gender</td>\n",
       "      <td>1</td>\n",
       "      <td>11.1318</td>\n",
       "    </tr>\n",
       "    <tr>\n",
       "      <th>1</th>\n",
       "      <td>Gender</td>\n",
       "      <td>2_0</td>\n",
       "      <td>-6.3195</td>\n",
       "    </tr>\n",
       "    <tr>\n",
       "      <th>2</th>\n",
       "      <td>Country</td>\n",
       "      <td>EE</td>\n",
       "      <td>5.78178</td>\n",
       "    </tr>\n",
       "    <tr>\n",
       "      <th>3</th>\n",
       "      <td>Country</td>\n",
       "      <td>ES_FI</td>\n",
       "      <td>-8.15069</td>\n",
       "    </tr>\n",
       "    <tr>\n",
       "      <th>4</th>\n",
       "      <td>LoanDuration</td>\n",
       "      <td>&lt;=48</td>\n",
       "      <td>-1.54229</td>\n",
       "    </tr>\n",
       "    <tr>\n",
       "      <th>5</th>\n",
       "      <td>LoanDuration</td>\n",
       "      <td>&gt;48</td>\n",
       "      <td>0.698256</td>\n",
       "    </tr>\n",
       "    <tr>\n",
       "      <th>6</th>\n",
       "      <td>MonthlyPayment</td>\n",
       "      <td>&lt;=109,9</td>\n",
       "      <td>11.7417</td>\n",
       "    </tr>\n",
       "    <tr>\n",
       "      <th>7</th>\n",
       "      <td>MonthlyPayment</td>\n",
       "      <td>&gt;109,9</td>\n",
       "      <td>-19.507</td>\n",
       "    </tr>\n",
       "    <tr>\n",
       "      <th>8</th>\n",
       "      <td>UseOfLoan</td>\n",
       "      <td>&lt;=-1</td>\n",
       "      <td>0.178682</td>\n",
       "    </tr>\n",
       "    <tr>\n",
       "      <th>9</th>\n",
       "      <td>UseOfLoan</td>\n",
       "      <td>&gt;-1</td>\n",
       "      <td>-13.6041</td>\n",
       "    </tr>\n",
       "    <tr>\n",
       "      <th>10</th>\n",
       "      <td>MaritalStatus</td>\n",
       "      <td>&lt;=-1</td>\n",
       "      <td>0.178682</td>\n",
       "    </tr>\n",
       "    <tr>\n",
       "      <th>11</th>\n",
       "      <td>MaritalStatus</td>\n",
       "      <td>&gt;1</td>\n",
       "      <td>-13.6041</td>\n",
       "    </tr>\n",
       "    <tr>\n",
       "      <th>12</th>\n",
       "      <td>EmploymentStatus</td>\n",
       "      <td>-1;2;4;5;6</td>\n",
       "      <td>-0.317457</td>\n",
       "    </tr>\n",
       "    <tr>\n",
       "      <th>13</th>\n",
       "      <td>EmploymentStatus</td>\n",
       "      <td>3</td>\n",
       "      <td>28.3991</td>\n",
       "    </tr>\n",
       "    <tr>\n",
       "      <th>14</th>\n",
       "      <td>OccupationArea</td>\n",
       "      <td>0</td>\n",
       "      <td>0.178682</td>\n",
       "    </tr>\n",
       "    <tr>\n",
       "      <th>15</th>\n",
       "      <td>OccupationArea</td>\n",
       "      <td>1</td>\n",
       "      <td>-13.6041</td>\n",
       "    </tr>\n",
       "    <tr>\n",
       "      <th>16</th>\n",
       "      <td>HomeOwnershipType</td>\n",
       "      <td>1</td>\n",
       "      <td>4.38031</td>\n",
       "    </tr>\n",
       "    <tr>\n",
       "      <th>17</th>\n",
       "      <td>HomeOwnershipType</td>\n",
       "      <td>10</td>\n",
       "      <td>0.816468</td>\n",
       "    </tr>\n",
       "    <tr>\n",
       "      <th>18</th>\n",
       "      <td>HomeOwnershipType</td>\n",
       "      <td>2</td>\n",
       "      <td>-4.0248</td>\n",
       "    </tr>\n",
       "    <tr>\n",
       "      <th>19</th>\n",
       "      <td>HomeOwnershipType</td>\n",
       "      <td>3</td>\n",
       "      <td>-3.33009</td>\n",
       "    </tr>\n",
       "    <tr>\n",
       "      <th>20</th>\n",
       "      <td>HomeOwnershipType</td>\n",
       "      <td>4</td>\n",
       "      <td>-21.1789</td>\n",
       "    </tr>\n",
       "    <tr>\n",
       "      <th>21</th>\n",
       "      <td>HomeOwnershipType</td>\n",
       "      <td>5</td>\n",
       "      <td>5.40677</td>\n",
       "    </tr>\n",
       "    <tr>\n",
       "      <th>22</th>\n",
       "      <td>HomeOwnershipType</td>\n",
       "      <td>8_6_7_9</td>\n",
       "      <td>-2.71973</td>\n",
       "    </tr>\n",
       "    <tr>\n",
       "      <th>23</th>\n",
       "      <td>IncomeFromPrincipalEmployer</td>\n",
       "      <td>0</td>\n",
       "      <td>0.0245379</td>\n",
       "    </tr>\n",
       "    <tr>\n",
       "      <th>24</th>\n",
       "      <td>IncomeFromPrincipalEmployer</td>\n",
       "      <td>&gt;0</td>\n",
       "      <td>-1.94543</td>\n",
       "    </tr>\n",
       "    <tr>\n",
       "      <th>25</th>\n",
       "      <td>ExistingLiabilities</td>\n",
       "      <td>0</td>\n",
       "      <td>-1.1203</td>\n",
       "    </tr>\n",
       "    <tr>\n",
       "      <th>26</th>\n",
       "      <td>ExistingLiabilities</td>\n",
       "      <td>&gt;0</td>\n",
       "      <td>0.294816</td>\n",
       "    </tr>\n",
       "    <tr>\n",
       "      <th>27</th>\n",
       "      <td>DebtToIncome</td>\n",
       "      <td>&lt;=0</td>\n",
       "      <td>0.178682</td>\n",
       "    </tr>\n",
       "    <tr>\n",
       "      <th>28</th>\n",
       "      <td>DebtToIncome</td>\n",
       "      <td>&gt;0</td>\n",
       "      <td>-13.6041</td>\n",
       "    </tr>\n",
       "    <tr>\n",
       "      <th>29</th>\n",
       "      <td>FreeCash</td>\n",
       "      <td>&lt;=0</td>\n",
       "      <td>0.178682</td>\n",
       "    </tr>\n",
       "    <tr>\n",
       "      <th>30</th>\n",
       "      <td>FreeCash</td>\n",
       "      <td>&gt;0</td>\n",
       "      <td>-13.6041</td>\n",
       "    </tr>\n",
       "    <tr>\n",
       "      <th>31</th>\n",
       "      <td>ExpectedReturn</td>\n",
       "      <td>(-inf,0.129136656245627)</td>\n",
       "      <td>10.9906</td>\n",
       "    </tr>\n",
       "    <tr>\n",
       "      <th>32</th>\n",
       "      <td>ExpectedReturn</td>\n",
       "      <td>(0.129136656245627,inf)</td>\n",
       "      <td>-19.9766</td>\n",
       "    </tr>\n",
       "    <tr>\n",
       "      <th>33</th>\n",
       "      <td>ModelVersion</td>\n",
       "      <td>(-inf,5&gt;</td>\n",
       "      <td>-20.5082</td>\n",
       "    </tr>\n",
       "    <tr>\n",
       "      <th>34</th>\n",
       "      <td>ModelVersion</td>\n",
       "      <td>(5,6&gt;</td>\n",
       "      <td>0.270787</td>\n",
       "    </tr>\n",
       "    <tr>\n",
       "      <th>35</th>\n",
       "      <td>CreditScoreEsMicroL</td>\n",
       "      <td>M</td>\n",
       "      <td>1.43242</td>\n",
       "    </tr>\n",
       "    <tr>\n",
       "      <th>36</th>\n",
       "      <td>CreditScoreEsMicroL</td>\n",
       "      <td>M1_to_M10</td>\n",
       "      <td>-59.8763</td>\n",
       "    </tr>\n",
       "    <tr>\n",
       "      <th>37</th>\n",
       "      <td>InterestAndPenaltyPaymentsMade</td>\n",
       "      <td>(-inf;58.79&gt;</td>\n",
       "      <td>-125.662</td>\n",
       "    </tr>\n",
       "    <tr>\n",
       "      <th>38</th>\n",
       "      <td>InterestAndPenaltyPaymentsMade</td>\n",
       "      <td>(443.81;inf)</td>\n",
       "      <td>20.0558</td>\n",
       "    </tr>\n",
       "    <tr>\n",
       "      <th>39</th>\n",
       "      <td>InterestAndPenaltyPaymentsMade</td>\n",
       "      <td>(58.79;443.81&gt;</td>\n",
       "      <td>-8.77018</td>\n",
       "    </tr>\n",
       "    <tr>\n",
       "      <th>40</th>\n",
       "      <td>NoOfPreviousLoansBeforeLoan</td>\n",
       "      <td>(-inf;1&gt;</td>\n",
       "      <td>-0.735291</td>\n",
       "    </tr>\n",
       "    <tr>\n",
       "      <th>41</th>\n",
       "      <td>NoOfPreviousLoansBeforeLoan</td>\n",
       "      <td>(1;2&gt;</td>\n",
       "      <td>0.189859</td>\n",
       "    </tr>\n",
       "    <tr>\n",
       "      <th>42</th>\n",
       "      <td>NoOfPreviousLoansBeforeLoan</td>\n",
       "      <td>(2;inf)</td>\n",
       "      <td>1.84899</td>\n",
       "    </tr>\n",
       "    <tr>\n",
       "      <th>43</th>\n",
       "      <td>AmountOfPreviousLoansBeforeLoan</td>\n",
       "      <td>(-inf;0&gt;</td>\n",
       "      <td>-2.2057</td>\n",
       "    </tr>\n",
       "    <tr>\n",
       "      <th>44</th>\n",
       "      <td>AmountOfPreviousLoansBeforeLoan</td>\n",
       "      <td>(0;6910&gt;</td>\n",
       "      <td>-0.0669436</td>\n",
       "    </tr>\n",
       "    <tr>\n",
       "      <th>45</th>\n",
       "      <td>AmountOfPreviousLoansBeforeLoan</td>\n",
       "      <td>(6910;inf)</td>\n",
       "      <td>4.61645</td>\n",
       "    </tr>\n",
       "  </tbody>\n",
       "</table>\n",
       "</div>"
      ],
      "text/plain": [
       "                           Variable                  Category      Score\n",
       "0                            Gender                         1    11.1318\n",
       "1                            Gender                       2_0    -6.3195\n",
       "2                           Country                        EE    5.78178\n",
       "3                           Country                     ES_FI   -8.15069\n",
       "4                      LoanDuration                      <=48   -1.54229\n",
       "5                      LoanDuration                       >48   0.698256\n",
       "6                    MonthlyPayment                   <=109,9    11.7417\n",
       "7                    MonthlyPayment                    >109,9    -19.507\n",
       "8                         UseOfLoan                      <=-1   0.178682\n",
       "9                         UseOfLoan                       >-1   -13.6041\n",
       "10                    MaritalStatus                      <=-1   0.178682\n",
       "11                    MaritalStatus                        >1   -13.6041\n",
       "12                 EmploymentStatus                -1;2;4;5;6  -0.317457\n",
       "13                 EmploymentStatus                         3    28.3991\n",
       "14                   OccupationArea                         0   0.178682\n",
       "15                   OccupationArea                         1   -13.6041\n",
       "16                HomeOwnershipType                         1    4.38031\n",
       "17                HomeOwnershipType                        10   0.816468\n",
       "18                HomeOwnershipType                         2    -4.0248\n",
       "19                HomeOwnershipType                         3   -3.33009\n",
       "20                HomeOwnershipType                         4   -21.1789\n",
       "21                HomeOwnershipType                         5    5.40677\n",
       "22                HomeOwnershipType                   8_6_7_9   -2.71973\n",
       "23      IncomeFromPrincipalEmployer                         0  0.0245379\n",
       "24      IncomeFromPrincipalEmployer                        >0   -1.94543\n",
       "25              ExistingLiabilities                         0    -1.1203\n",
       "26              ExistingLiabilities                        >0   0.294816\n",
       "27                     DebtToIncome                       <=0   0.178682\n",
       "28                     DebtToIncome                        >0   -13.6041\n",
       "29                         FreeCash                       <=0   0.178682\n",
       "30                         FreeCash                        >0   -13.6041\n",
       "31                   ExpectedReturn  (-inf,0.129136656245627)    10.9906\n",
       "32                   ExpectedReturn   (0.129136656245627,inf)   -19.9766\n",
       "33                     ModelVersion                  (-inf,5>   -20.5082\n",
       "34                     ModelVersion                     (5,6>   0.270787\n",
       "35              CreditScoreEsMicroL                         M    1.43242\n",
       "36              CreditScoreEsMicroL                 M1_to_M10   -59.8763\n",
       "37   InterestAndPenaltyPaymentsMade              (-inf;58.79>   -125.662\n",
       "38   InterestAndPenaltyPaymentsMade              (443.81;inf)    20.0558\n",
       "39   InterestAndPenaltyPaymentsMade            (58.79;443.81>   -8.77018\n",
       "40      NoOfPreviousLoansBeforeLoan                  (-inf;1>  -0.735291\n",
       "41      NoOfPreviousLoansBeforeLoan                     (1;2>   0.189859\n",
       "42      NoOfPreviousLoansBeforeLoan                   (2;inf)    1.84899\n",
       "43  AmountOfPreviousLoansBeforeLoan                  (-inf;0>    -2.2057\n",
       "44  AmountOfPreviousLoansBeforeLoan                  (0;6910> -0.0669436\n",
       "45  AmountOfPreviousLoansBeforeLoan                (6910;inf)    4.61645"
      ]
     },
     "execution_count": 211,
     "metadata": {},
     "output_type": "execute_result"
    }
   ],
   "source": [
    "scorecard"
   ]
  },
  {
   "cell_type": "markdown",
   "metadata": {},
   "source": [
    "## Wyliczenie scorów dla danych testowych"
   ]
  },
  {
   "cell_type": "code",
   "execution_count": 234,
   "metadata": {},
   "outputs": [],
   "source": [
    "def data_to_score(df):\n",
    "    cols = scorecard['Variable'].unique()\n",
    "    df_score = df[np.append(cols, 'Status')]\n",
    "    for v in cols:\n",
    "        df_score = df_score.merge(\n",
    "            scorecard[scorecard['Variable'] == v][['Category', 'Score']],\n",
    "#             how='left',\n",
    "            left_on=v, \n",
    "            right_on='Category'\n",
    "        )\n",
    "        df_score.drop(columns=['Category', v], inplace=True)\n",
    "        df_score.rename(columns={'Score': v}, inplace=True)\n",
    "    df_score['Status'] = df_score['Status'].astype(int)\n",
    "    df_score['Intercept'] = intercept_score\n",
    "    df_score['Score'] = df_score.drop('Status', axis=1).sum(axis=1)\n",
    "    return df_score"
   ]
  },
  {
   "cell_type": "code",
   "execution_count": 235,
   "metadata": {},
   "outputs": [],
   "source": [
    "test_score = data_to_score(test)"
   ]
  },
  {
   "cell_type": "code",
   "execution_count": 238,
   "metadata": {},
   "outputs": [
    {
     "data": {
      "text/plain": [
       "<matplotlib.axes._subplots.AxesSubplot at 0x21f17c1beb0>"
      ]
     },
     "execution_count": 238,
     "metadata": {},
     "output_type": "execute_result"
    },
    {
     "data": {
      "image/png": "[encoded data removed]",
      "text/plain": [
       "<Figure size 432x288 with 1 Axes>"
      ]
     },
     "metadata": {},
     "output_type": "display_data"
    }
   ],
   "source": [
    "# ogólny rozkład\n",
    "test_score['Score'].hist()"
   ]
  },
  {
   "cell_type": "code",
   "execution_count": 266,
   "metadata": {},
   "outputs": [
    {
     "data": {
      "image/png": "[encoded data removed]",
      "text/plain": [
       "<Figure size 864x720 with 1 Axes>"
      ]
     },
     "metadata": {},
     "output_type": "display_data"
    }
   ],
   "source": [
    "# rozkład w podziale na default\n",
    "# chujowo wychodzi bo mamy bardzo duży default rate na poziomie ok 0.6\n",
    "plt.figure(figsize=(12,10))\n",
    "import random\n",
    "import math\n",
    "from matplotlib import pyplot as plt\n",
    "\n",
    "w = 40\n",
    "n = math.ceil((test_score['Score'].max() - test_score['Score'].min())/w)\n",
    "#bins = numpy.linspace(-10, 10, 100)\n",
    "\n",
    "plt.hist(test_score[test_score.Status==1].Score, alpha=0.5, label='Bads',bins = n)\n",
    "plt.hist(test_score[test_score.Status==0].Score, alpha=0.5, label='Goods',bins = n)\n",
    "plt.legend(loc='upper left')\n",
    "plt.title('Credit Score Distribution: Test Set',size=15)\n",
    "plt.show()"
   ]
  },
  {
   "cell_type": "code",
   "execution_count": 263,
   "metadata": {},
   "outputs": [
    {
     "data": {
      "text/plain": [
       "array([216.8346556 , 414.02398919, 480.83365823, 502.42463357,\n",
       "       512.43466893, 523.54104215, 530.952757  , 538.48804796,\n",
       "       549.39745641, 561.82694924])"
      ]
     },
     "execution_count": 263,
     "metadata": {},
     "output_type": "execute_result"
    }
   ],
   "source": [
    "np.percentile(test_score['Score'], np.arange(0, 100, 10))"
   ]
  },
  {
   "cell_type": "code",
   "execution_count": 267,
   "metadata": {},
   "outputs": [],
   "source": [
    "test_score['Decile'] = pd.qcut(test_score['Score'], 10, labels=False)\n",
    "score_deciles = test_score.groupby(by=['Decile']).sum().reset_index()\n",
    "score_deciles['N'] = score_deciles['Intercept'] / intercept_score\n",
    "score_deciles['BadRate'] = score_deciles['Status'] / score_deciles['N']\n",
    "score_deciles.drop(columns=['Status', 'Intercept', 'Score'], inplace=True)"
   ]
  },
  {
   "cell_type": "code",
   "execution_count": 268,
   "metadata": {},
   "outputs": [
    {
     "data": {
      "text/html": [
       "<div>\n",
       "<style scoped>\n",
       "    .dataframe tbody tr th:only-of-type {\n",
       "        vertical-align: middle;\n",
       "    }\n",
       "\n",
       "    .dataframe tbody tr th {\n",
       "        vertical-align: top;\n",
       "    }\n",
       "\n",
       "    .dataframe thead th {\n",
       "        text-align: right;\n",
       "    }\n",
       "</style>\n",
       "<table border=\"1\" class=\"dataframe\">\n",
       "  <thead>\n",
       "    <tr style=\"text-align: right;\">\n",
       "      <th></th>\n",
       "      <th>Decile</th>\n",
       "      <th>N</th>\n",
       "      <th>BadRate</th>\n",
       "    </tr>\n",
       "  </thead>\n",
       "  <tbody>\n",
       "    <tr>\n",
       "      <th>0</th>\n",
       "      <td>0</td>\n",
       "      <td>207.0</td>\n",
       "      <td>0.985507</td>\n",
       "    </tr>\n",
       "    <tr>\n",
       "      <th>1</th>\n",
       "      <td>1</td>\n",
       "      <td>207.0</td>\n",
       "      <td>0.903382</td>\n",
       "    </tr>\n",
       "    <tr>\n",
       "      <th>2</th>\n",
       "      <td>2</td>\n",
       "      <td>202.0</td>\n",
       "      <td>0.638614</td>\n",
       "    </tr>\n",
       "    <tr>\n",
       "      <th>3</th>\n",
       "      <td>3</td>\n",
       "      <td>206.0</td>\n",
       "      <td>0.752427</td>\n",
       "    </tr>\n",
       "    <tr>\n",
       "      <th>4</th>\n",
       "      <td>4</td>\n",
       "      <td>206.0</td>\n",
       "      <td>0.567961</td>\n",
       "    </tr>\n",
       "    <tr>\n",
       "      <th>5</th>\n",
       "      <td>5</td>\n",
       "      <td>204.0</td>\n",
       "      <td>0.578431</td>\n",
       "    </tr>\n",
       "    <tr>\n",
       "      <th>6</th>\n",
       "      <td>6</td>\n",
       "      <td>210.0</td>\n",
       "      <td>0.476190</td>\n",
       "    </tr>\n",
       "    <tr>\n",
       "      <th>7</th>\n",
       "      <td>7</td>\n",
       "      <td>204.0</td>\n",
       "      <td>0.455882</td>\n",
       "    </tr>\n",
       "    <tr>\n",
       "      <th>8</th>\n",
       "      <td>8</td>\n",
       "      <td>205.0</td>\n",
       "      <td>0.424390</td>\n",
       "    </tr>\n",
       "    <tr>\n",
       "      <th>9</th>\n",
       "      <td>9</td>\n",
       "      <td>203.0</td>\n",
       "      <td>0.300493</td>\n",
       "    </tr>\n",
       "  </tbody>\n",
       "</table>\n",
       "</div>"
      ],
      "text/plain": [
       "   Decile      N   BadRate\n",
       "0       0  207.0  0.985507\n",
       "1       1  207.0  0.903382\n",
       "2       2  202.0  0.638614\n",
       "3       3  206.0  0.752427\n",
       "4       4  206.0  0.567961\n",
       "5       5  204.0  0.578431\n",
       "6       6  210.0  0.476190\n",
       "7       7  204.0  0.455882\n",
       "8       8  205.0  0.424390\n",
       "9       9  203.0  0.300493"
      ]
     },
     "execution_count": 268,
     "metadata": {},
     "output_type": "execute_result"
    }
   ],
   "source": [
    "score_deciles"
   ]
  },
  {
   "cell_type": "code",
   "execution_count": null,
   "metadata": {},
   "outputs": [],
   "source": []
  }
 ],
 "metadata": {
  "kernelspec": {
   "display_name": "Python 3",
   "language": "python",
   "name": "python3"
  },
  "language_info": {
   "codemirror_mode": {
    "name": "ipython",
    "version": 3
   },
   "file_extension": ".py",
   "mimetype": "text/x-python",
   "name": "python",
   "nbconvert_exporter": "python",
   "pygments_lexer": "ipython3",
   "version": "3.8.3"
  }
 },
 "nbformat": 4,
 "nbformat_minor": 4
}
